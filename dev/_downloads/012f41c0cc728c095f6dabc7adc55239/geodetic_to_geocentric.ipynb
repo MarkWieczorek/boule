{
  "cells": [
    {
      "cell_type": "code",
      "execution_count": null,
      "metadata": {
        "collapsed": false
      },
      "outputs": [],
      "source": [
        "%matplotlib inline"
      ]
    },
    {
      "cell_type": "markdown",
      "metadata": {},
      "source": [
        "\n\n# Coordinate conversions\n\nBoth geocentric coordinate system and geodetic coordinate system are geographic\ncoordinate systems centred at the mass of the earth. In geocentric coordinate\nsystem, the earth is modelled as a sphere. The geodetic coordinate system is\nbased on the reference ellipsoid considering the centrifugal force due to\nthe earth's rotation.\n\nThe major difference between these two systems is the way how they define\nlatitude and height. In geocentric coordinate system, the geocentric latitude\nis defined by the angle between the plane the equator and the line from earth\ncentre to a given point. The distance from the point to the earth centre is\ngeocentric radius :`R`. In geodetic coordinate system, the geodetic latitude is\nthe angle between the plane of the equator and the surface normal at a point\non the ellipsoid. The ellipsoid height $h$ is the height above the\nellipsoid surface, it also normal to that surface.\n\n.. figure:: ../_static/coordinate.png\n    :alt: Depiction of geocentric and geodetic systems with associated coordinates.\n\n    Geocentric and Geodetic Coordinates Systems\n\nNote, the flattening of the shown ellipsoid is larger than the real earth.\nThe real difference between geodetic latitude and geocentric latitude at\nthe earth ellipsoid surface is less than 0.2 degrees.\n\nThe calculation is performed by the :meth:`boule.Ellipsoid.geodetic_to_spherical`\nmethod.\n\nThis example will show you how to convert geodetic latitude and height into\ngeocentric latitude and radius. We use `WGS84 <wgs84>`  ellipsoid in here.\n"
      ]
    },
    {
      "cell_type": "code",
      "execution_count": null,
      "metadata": {
        "collapsed": false
      },
      "outputs": [],
      "source": [
        "import numpy as np\nimport matplotlib.pyplot as plt\nimport boule as bl\n\n\nlatitude = np.linspace(-90, 90, 100)\nlongitude = 0\n# ellipsoid surface\nHeight1 = 0\n# ICESat-2 orbit height\nHeight2 = 481000\nSP_Cor1 = bl.WGS84.geodetic_to_spherical(longitude, latitude, Height1)\nSP_Cor2 = bl.WGS84.geodetic_to_spherical(longitude, latitude, Height2)\n\nfig, (axs1, axs2, axs3) = plt.subplots(3, 1, figsize=(10, 15))\n\naxs1.plot(latitude, SP_Cor1[1], \"-k\")\naxs1.set_title(\"Geodetic latitude to geocentric latitude at ellipsoid surface\")\naxs1.set(xlabel=\"Geodetic Latitude\", ylabel=\"Geocentric Latitude\")\n\naxs2.plot(latitude, SP_Cor1[2], \"-k\")\naxs2.set_title(\"Geocentric radius at ellipsoid surface\")\naxs2.set(xlabel=\"Geodetic Latitude\", ylabel=\"Geocentric Radius (m)\")\n\naxs3.plot(latitude, latitude - SP_Cor1[1], \"-k\")\naxs3.set_title(\n    \"Difference between geodetic latitude and geocentric latitude at ellipsoid surface\"\n)\naxs3.set(xlabel=\"Geodetic Latitude\", ylabel=\"Difference (Degree)\")\n\nplt.show()"
      ]
    },
    {
      "cell_type": "markdown",
      "metadata": {},
      "source": [
        "The geocentric latitude is a function of geodetic latitude and ellipsoid height.\nThe influence of ellipsoid height change on the geocentric latitude varies with\nthe geodetic latitude. Consider different ellipsoid heights (ICESat-2 orbit\nheight vs ellipsoid surface), this difference could be 0.013 degrees. Similarly,\nthe Geocentric radius change could be 2.5 meters.\n\n"
      ]
    },
    {
      "cell_type": "code",
      "execution_count": null,
      "metadata": {
        "collapsed": false
      },
      "outputs": [],
      "source": [
        "fig, (axs1, axs2) = plt.subplots(2, 1, figsize=(10, 10))\n\naxs1.plot(latitude, SP_Cor2[1] - SP_Cor1[1], \"-k\")\naxs1.set_title(\"Geocentric latitude changes at different ellipsoid heights\")\naxs1.set(xlabel=\"Geodetic Latitude\", ylabel=\"Difference (Degree)\")\n\naxs2.plot(latitude, SP_Cor2[2] - SP_Cor1[2], \"-k\")\naxs2.set_title(\"Geocentric radius changes at different ellipsoid height\")\naxs2.set(xlabel=\"Geodetic Latitude\", ylabel=\"Difference (m)\")\n\nplt.show()"
      ]
    }
  ],
  "metadata": {
    "kernelspec": {
      "display_name": "Python 3",
      "language": "python",
      "name": "python3"
    },
    "language_info": {
      "codemirror_mode": {
        "name": "ipython",
        "version": 3
      },
      "file_extension": ".py",
      "mimetype": "text/x-python",
      "name": "python",
      "nbconvert_exporter": "python",
      "pygments_lexer": "ipython3",
      "version": "3.9.10"
    }
  },
  "nbformat": 4,
  "nbformat_minor": 0
}